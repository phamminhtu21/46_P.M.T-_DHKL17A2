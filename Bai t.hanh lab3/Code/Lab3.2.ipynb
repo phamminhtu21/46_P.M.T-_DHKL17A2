{
 "cells": [
  {
   "cell_type": "markdown",
   "metadata": {},
   "source": [
    "LAB 3.2. XỬ LÝ DỮ LIỆU NULL"
   ]
  },
  {
   "cell_type": "code",
   "execution_count": 42,
   "metadata": {},
   "outputs": [],
   "source": [
    "import numpy as np\n",
    "import pandas as pd"
   ]
  },
  {
   "cell_type": "code",
   "execution_count": 43,
   "metadata": {},
   "outputs": [
    {
     "name": "stdout",
     "output_type": "stream",
     "text": [
      "       date symbol     open     high      low    close   volume\n",
      "0  01-03-19   AMZN  1655.13  1674.26  1651.00  1671.73  4974877\n",
      "1  04-03-19   AMZN  1685.00  1709.43  1674.36  1696.17  6167358\n",
      "2  05-03-19   AMZN  1702.95  1707.80  1689.01  1692.43  3681522\n",
      "3  06-03-19   AMZN  1695.97      NaN      NaN  1668.95  3996001\n",
      "4  07-03-19   AMZN  1667.37  1669.75  1620.51  1625.95  4957017\n"
     ]
    }
   ],
   "source": [
    "stocks1 = pd.read_csv('D:/Python nâng cao/Lab 3/DATA/stocks1.csv')\n",
    "print(stocks1.head())"
   ]
  },
  {
   "cell_type": "markdown",
   "metadata": {},
   "source": [
    "1. Kiểm tra xem trong stocks1 có dữ liệu Null nào không"
   ]
  },
  {
   "cell_type": "code",
   "execution_count": 44,
   "metadata": {},
   "outputs": [
    {
     "name": "stdout",
     "output_type": "stream",
     "text": [
      "\n",
      "Dữ liệu Null trong stocks1:\n",
      "date      False\n",
      "symbol    False\n",
      "open      False\n",
      "high       True\n",
      "low        True\n",
      "close     False\n",
      "volume    False\n",
      "dtype: bool\n"
     ]
    }
   ],
   "source": [
    "print(\"\\nDữ liệu Null trong stocks1:\")\n",
    "print(stocks1.isnull().sum())"
   ]
  },
  {
   "cell_type": "markdown",
   "metadata": {},
   "source": [
    "2. Thay thế dữ liệu Null ở cột high bằng giá trị trung bình của cột high."
   ]
  },
  {
   "cell_type": "code",
   "execution_count": 45,
   "metadata": {},
   "outputs": [],
   "source": [
    "stocks1['high'].fillna(stocks1['high'].mean(),inplace=True) "
   ]
  },
  {
   "cell_type": "markdown",
   "metadata": {},
   "source": [
    "3. Thay thế dữ liệu Null ở cột low bằng giá trị trung bình của cột low."
   ]
  },
  {
   "cell_type": "code",
   "execution_count": 46,
   "metadata": {},
   "outputs": [],
   "source": [
    "stocks1['low'].fillna(stocks1['low'].mean(),inplace=True )"
   ]
  },
  {
   "cell_type": "markdown",
   "metadata": {},
   "source": [
    "4. Hiển thị thông tin tổng quan để xác nhận không còn dữ liệu Null."
   ]
  },
  {
   "cell_type": "code",
   "execution_count": 47,
   "metadata": {},
   "outputs": [
    {
     "name": "stdout",
     "output_type": "stream",
     "text": [
      "After the change:\n",
      "         date symbol     open         high          low    close    volume\n",
      "0   01-03-19   AMZN  1655.13  1674.260000  1651.000000  1671.73   4974877\n",
      "1   04-03-19   AMZN  1685.00  1709.430000  1674.360000  1696.17   6167358\n",
      "2   05-03-19   AMZN  1702.95  1707.800000  1689.010000  1692.43   3681522\n",
      "3   06-03-19   AMZN  1695.97   943.511538   926.775385  1668.95   3996001\n",
      "4   07-03-19   AMZN  1667.37  1669.750000  1620.510000  1625.95   4957017\n",
      "5   01-03-19   AAPL   174.28   175.150000   172.890000   174.97  25886167\n",
      "6   04-03-19   AAPL   175.69   177.750000   173.970000   175.85  27436203\n",
      "7   05-03-19   AAPL   175.94   176.000000   174.540000   175.53  19737419\n",
      "8   06-03-19   AAPL   174.67   175.490000   173.940000   174.52  20810384\n",
      "9   07-03-19   AAPL   173.87   174.440000   172.020000   172.50  24796374\n",
      "10  01-03-19   GOOG  1124.90  1142.970000  1124.750000  1140.99   1450316\n",
      "11  04-03-19   GOOG  1146.99  1158.280000  1130.690000  1147.80   1446047\n",
      "12  05-03-19   GOOG  1150.06   943.511538   926.775385  1162.03   1443174\n",
      "13  06-03-19   GOOG  1162.49  1167.570000  1155.490000  1157.86   1099289\n",
      "14  07-03-19   GOOG  1155.72  1156.760000  1134.910000  1143.30   1166559\n"
     ]
    }
   ],
   "source": [
    "print('After the change:\\n',stocks1)"
   ]
  }
 ],
 "metadata": {
  "kernelspec": {
   "display_name": "base",
   "language": "python",
   "name": "python3"
  },
  "language_info": {
   "codemirror_mode": {
    "name": "ipython",
    "version": 3
   },
   "file_extension": ".py",
   "mimetype": "text/x-python",
   "name": "python",
   "nbconvert_exporter": "python",
   "pygments_lexer": "ipython3",
   "version": "3.11.4"
  }
 },
 "nbformat": 4,
 "nbformat_minor": 2
}
