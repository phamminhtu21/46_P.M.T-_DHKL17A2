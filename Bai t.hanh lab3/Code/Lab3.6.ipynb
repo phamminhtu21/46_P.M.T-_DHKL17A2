{
 "cells": [
  {
   "cell_type": "markdown",
   "metadata": {},
   "source": [
    "LAB 3.6: TẠO VÀ PHÂN TÍCH PIVOT TABLE"
   ]
  },
  {
   "cell_type": "code",
   "execution_count": 1,
   "metadata": {},
   "outputs": [],
   "source": [
    "import numpy as np\n",
    "import pandas as pd"
   ]
  },
  {
   "cell_type": "code",
   "execution_count": 2,
   "metadata": {},
   "outputs": [
    {
     "name": "stdout",
     "output_type": "stream",
     "text": [
      "       date symbol     open     high      low    close   volume\n",
      "0  01-03-19   AMZN  1655.13  1674.26  1651.00  1671.73  4974877\n",
      "1  04-03-19   AMZN  1685.00  1709.43  1674.36  1696.17  6167358\n",
      "2  05-03-19   AMZN  1702.95  1707.80  1689.01  1692.43  3681522\n",
      "3  06-03-19   AMZN  1695.97      NaN      NaN  1668.95  3996001\n",
      "4  07-03-19   AMZN  1667.37  1669.75  1620.51  1625.95  4957017\n",
      "       date symbol    open     high     low   close    volume\n",
      "0  01-03-19     FB  162.60  163.132  161.69  162.28  11097770\n",
      "1  04-03-19     FB  163.90  167.500  163.83  167.37  18894689\n",
      "2  05-03-19     FB  167.37  171.880  166.55  171.26  28187890\n",
      "3  06-03-19     FB  172.90  173.570  171.27  172.51  21531723\n",
      "4  07-03-19     FB  171.50  171.740  167.61  169.13  18306504\n"
     ]
    }
   ],
   "source": [
    "stocks1 = pd.read_csv('D:/Python nâng cao/Lab 3/DATA/stocks1.csv')\n",
    "print(stocks1.head())\n",
    "stocks2 = pd.read_csv('D:/Python nâng cao/Lab 3/DATA/stocks2.csv')\n",
    "print(stocks2.head())\n",
    "stocks = pd.concat([stocks1, stocks2], ignore_index=True)"
   ]
  },
  {
   "cell_type": "markdown",
   "metadata": {},
   "source": [
    "1. Tạo Pivot Table từ DataFrame stocks với date làm chỉ mục, symbol làm cột, và giá \n",
    "trị trung bình của close làm giá trị."
   ]
  },
  {
   "cell_type": "code",
   "execution_count": 3,
   "metadata": {},
   "outputs": [
    {
     "name": "stdout",
     "output_type": "stream",
     "text": [
      "symbol      AAPL     AMZN      FB     GOOG    TSLA\n",
      "date                                              \n",
      "01-03-19  174.97  1671.73  162.28  1140.99  294.79\n",
      "04-03-19  175.85  1696.17  167.37  1147.80  285.36\n",
      "05-03-19  175.53  1692.43  171.26  1162.03  276.54\n",
      "06-03-19  174.52  1668.95  172.51  1157.86  276.24\n",
      "07-03-19  172.50  1625.95  169.13  1143.30  276.59\n"
     ]
    }
   ],
   "source": [
    "pivot_table = pd.pivot_table(stocks, values='close', index='date', columns='symbol', aggfunc='mean')\n",
    "print(pivot_table)"
   ]
  },
  {
   "cell_type": "markdown",
   "metadata": {},
   "source": [
    "2. Thêm một cột tính tổng volume giao dịch cho mỗi mã chứng khoán (symbol)"
   ]
  },
  {
   "cell_type": "code",
   "execution_count": 4,
   "metadata": {},
   "outputs": [
    {
     "name": "stdout",
     "output_type": "stream",
     "text": [
      "symbol      AAPL     AMZN      FB     GOOG    TSLA  total_volume\n",
      "date                                                            \n",
      "01-03-19  174.97  1671.73  162.28  1140.99  294.79           NaN\n",
      "04-03-19  175.85  1696.17  167.37  1147.80  285.36           NaN\n",
      "05-03-19  175.53  1692.43  171.26  1162.03  276.54           NaN\n",
      "06-03-19  174.52  1668.95  172.51  1157.86  276.24           NaN\n",
      "07-03-19  172.50  1625.95  169.13  1143.30  276.59           NaN\n"
     ]
    }
   ],
   "source": [
    "pivot_table['total_volume'] = stocks.groupby('symbol')['volume'].sum()\n",
    "print(pivot_table)"
   ]
  },
  {
   "cell_type": "markdown",
   "metadata": {},
   "source": [
    "3. Sắp xếp Pivot Table dựa trên tổng volume giao dịch, từ cao xuống thấp."
   ]
  },
  {
   "cell_type": "code",
   "execution_count": 5,
   "metadata": {},
   "outputs": [],
   "source": [
    "pivot_table_sorted = pivot_table.sort_values(by='total_volume', ascending=False)\n"
   ]
  },
  {
   "cell_type": "markdown",
   "metadata": {},
   "source": [
    "4. Hiển thị kết quả cho 5 mã chứng khoán có tổng volume giao dịch cao nhất"
   ]
  },
  {
   "cell_type": "code",
   "execution_count": 6,
   "metadata": {},
   "outputs": [
    {
     "name": "stdout",
     "output_type": "stream",
     "text": [
      "Kết quả cho 5 mã chứng khoán có tổng volume giao dịch cao nhất:\n",
      "symbol      AAPL     AMZN      FB     GOOG    TSLA  total_volume\n",
      "date                                                            \n",
      "01-03-19  174.97  1671.73  162.28  1140.99  294.79           NaN\n",
      "04-03-19  175.85  1696.17  167.37  1147.80  285.36           NaN\n",
      "05-03-19  175.53  1692.43  171.26  1162.03  276.54           NaN\n",
      "06-03-19  174.52  1668.95  172.51  1157.86  276.24           NaN\n",
      "07-03-19  172.50  1625.95  169.13  1143.30  276.59           NaN\n"
     ]
    }
   ],
   "source": [
    "top_5_stocks = pivot_table_sorted.head()\n",
    "print(\"Kết quả cho 5 mã chứng khoán có tổng volume giao dịch cao nhất:\")\n",
    "print(top_5_stocks)"
   ]
  }
 ],
 "metadata": {
  "kernelspec": {
   "display_name": "base",
   "language": "python",
   "name": "python3"
  },
  "language_info": {
   "codemirror_mode": {
    "name": "ipython",
    "version": 3
   },
   "file_extension": ".py",
   "mimetype": "text/x-python",
   "name": "python",
   "nbconvert_exporter": "python",
   "pygments_lexer": "ipython3",
   "version": "3.11.4"
  }
 },
 "nbformat": 4,
 "nbformat_minor": 2
}
