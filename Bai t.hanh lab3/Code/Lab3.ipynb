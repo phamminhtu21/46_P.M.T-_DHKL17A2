{
 "cells": [
  {
   "cell_type": "markdown",
   "metadata": {},
   "source": [
    "LAB 3.1. KHÁM PHÁ DỮ LIỆU"
   ]
  },
  {
   "cell_type": "code",
   "execution_count": 28,
   "metadata": {},
   "outputs": [],
   "source": [
    "import pandas as pd "
   ]
  },
  {
   "cell_type": "markdown",
   "metadata": {},
   "source": [
    "1. Đọc file stocks1.csv vào DataFrame stocks1."
   ]
  },
  {
   "cell_type": "code",
   "execution_count": 29,
   "metadata": {},
   "outputs": [
    {
     "name": "stdout",
     "output_type": "stream",
     "text": [
      "       date symbol     open     high      low    close   volume\n",
      "0  01-03-19   AMZN  1655.13  1674.26  1651.00  1671.73  4974877\n",
      "1  04-03-19   AMZN  1685.00  1709.43  1674.36  1696.17  6167358\n",
      "2  05-03-19   AMZN  1702.95  1707.80  1689.01  1692.43  3681522\n",
      "3  06-03-19   AMZN  1695.97      NaN      NaN  1668.95  3996001\n",
      "4  07-03-19   AMZN  1667.37  1669.75  1620.51  1625.95  4957017\n"
     ]
    }
   ],
   "source": [
    "stocks1 = pd.read_csv('D:/Python nâng cao/Lab 3/DATA/stocks1.csv')\n",
    "print(stocks1.head())"
   ]
  },
  {
   "cell_type": "markdown",
   "metadata": {},
   "source": [
    "2. Hiển thị 5 dòng đầu tiên của stocks1."
   ]
  },
  {
   "cell_type": "code",
   "execution_count": 30,
   "metadata": {},
   "outputs": [
    {
     "name": "stdout",
     "output_type": "stream",
     "text": [
      "5 dòng dữ liệu đầu của stocks1:\n",
      "       date symbol     open     high      low    close   volume\n",
      "0  01-03-19   AMZN  1655.13  1674.26  1651.00  1671.73  4974877\n",
      "1  04-03-19   AMZN  1685.00  1709.43  1674.36  1696.17  6167358\n",
      "2  05-03-19   AMZN  1702.95  1707.80  1689.01  1692.43  3681522\n",
      "3  06-03-19   AMZN  1695.97      NaN      NaN  1668.95  3996001\n",
      "4  07-03-19   AMZN  1667.37  1669.75  1620.51  1625.95  4957017\n"
     ]
    }
   ],
   "source": [
    "print(\"5 dòng dữ liệu đầu của stocks1:\")\n",
    "print(stocks1.head())"
   ]
  },
  {
   "cell_type": "markdown",
   "metadata": {},
   "source": [
    "3. Hiển thị kiểu dữ liệu (dtype) của mỗi cột trong stocks1."
   ]
  },
  {
   "cell_type": "code",
   "execution_count": 31,
   "metadata": {},
   "outputs": [
    {
     "name": "stdout",
     "output_type": "stream",
     "text": [
      "\n",
      "Kiểu dữ liệu (dtype) của các cột của stocks1:\n",
      "date       object\n",
      "symbol     object\n",
      "open      float64\n",
      "high      float64\n",
      "low       float64\n",
      "close     float64\n",
      "volume      int64\n",
      "dtype: object\n"
     ]
    }
   ],
   "source": [
    "print(\"\\nKiểu dữ liệu (dtype) của các cột của stocks1:\")\n",
    "print(stocks1.dtypes)"
   ]
  },
  {
   "cell_type": "markdown",
   "metadata": {},
   "source": [
    "4. Xem thông tin tổng quan (info) của stocks1."
   ]
  },
  {
   "cell_type": "code",
   "execution_count": 32,
   "metadata": {},
   "outputs": [
    {
     "name": "stdout",
     "output_type": "stream",
     "text": [
      "\n",
      "Thông tin (info) của stocks1:\n",
      "<class 'pandas.core.frame.DataFrame'>\n",
      "RangeIndex: 15 entries, 0 to 14\n",
      "Data columns (total 7 columns):\n",
      " #   Column  Non-Null Count  Dtype  \n",
      "---  ------  --------------  -----  \n",
      " 0   date    15 non-null     object \n",
      " 1   symbol  15 non-null     object \n",
      " 2   open    15 non-null     float64\n",
      " 3   high    13 non-null     float64\n",
      " 4   low     13 non-null     float64\n",
      " 5   close   15 non-null     float64\n",
      " 6   volume  15 non-null     int64  \n",
      "dtypes: float64(4), int64(1), object(2)\n",
      "memory usage: 972.0+ bytes\n",
      "None\n"
     ]
    }
   ],
   "source": [
    "print(\"\\nThông tin (info) của stocks1:\")\n",
    "print(stocks1.info())"
   ]
  },
  {
   "cell_type": "markdown",
   "metadata": {},
   "source": [
    "LAB 3.2. XỬ LÝ DỮ LIỆU NULL"
   ]
  },
  {
   "cell_type": "markdown",
   "metadata": {},
   "source": [
    "1. Kiểm tra xem trong stocks1 có dữ liệu Null nào không"
   ]
  },
  {
   "cell_type": "code",
   "execution_count": 33,
   "metadata": {},
   "outputs": [
    {
     "name": "stdout",
     "output_type": "stream",
     "text": [
      "\n",
      "Dữ liệu Null trong stocks1:\n",
      "date      0\n",
      "symbol    0\n",
      "open      0\n",
      "high      2\n",
      "low       2\n",
      "close     0\n",
      "volume    0\n",
      "dtype: int64\n"
     ]
    }
   ],
   "source": [
    "print(\"\\nDữ liệu Null trong stocks1:\")\n",
    "print(stocks1.isnull().sum())"
   ]
  },
  {
   "cell_type": "markdown",
   "metadata": {},
   "source": [
    "2. Thay thế dữ liệu Null ở cột high bằng giá trị trung bình của cột high."
   ]
  },
  {
   "cell_type": "code",
   "execution_count": 34,
   "metadata": {},
   "outputs": [],
   "source": [
    "stocks1['high'].fillna(stocks1['high'].mean(),inplace=True) "
   ]
  },
  {
   "cell_type": "markdown",
   "metadata": {},
   "source": [
    "3. Thay thế dữ liệu Null ở cột low bằng giá trị trung bình của cột low."
   ]
  },
  {
   "cell_type": "code",
   "execution_count": 35,
   "metadata": {},
   "outputs": [],
   "source": [
    "stocks1['low'].fillna(stocks1['low'].mean(),inplace=True )"
   ]
  },
  {
   "cell_type": "markdown",
   "metadata": {},
   "source": [
    "4. Hiển thị thông tin tổng quan để xác nhận không còn dữ liệu Null."
   ]
  },
  {
   "cell_type": "code",
   "execution_count": 36,
   "metadata": {},
   "outputs": [
    {
     "name": "stdout",
     "output_type": "stream",
     "text": [
      "After the change:\n",
      "         date symbol     open         high          low    close    volume\n",
      "0   01-03-19   AMZN  1655.13  1674.260000  1651.000000  1671.73   4974877\n",
      "1   04-03-19   AMZN  1685.00  1709.430000  1674.360000  1696.17   6167358\n",
      "2   05-03-19   AMZN  1702.95  1707.800000  1689.010000  1692.43   3681522\n",
      "3   06-03-19   AMZN  1695.97   943.511538   926.775385  1668.95   3996001\n",
      "4   07-03-19   AMZN  1667.37  1669.750000  1620.510000  1625.95   4957017\n",
      "5   01-03-19   AAPL   174.28   175.150000   172.890000   174.97  25886167\n",
      "6   04-03-19   AAPL   175.69   177.750000   173.970000   175.85  27436203\n",
      "7   05-03-19   AAPL   175.94   176.000000   174.540000   175.53  19737419\n",
      "8   06-03-19   AAPL   174.67   175.490000   173.940000   174.52  20810384\n",
      "9   07-03-19   AAPL   173.87   174.440000   172.020000   172.50  24796374\n",
      "10  01-03-19   GOOG  1124.90  1142.970000  1124.750000  1140.99   1450316\n",
      "11  04-03-19   GOOG  1146.99  1158.280000  1130.690000  1147.80   1446047\n",
      "12  05-03-19   GOOG  1150.06   943.511538   926.775385  1162.03   1443174\n",
      "13  06-03-19   GOOG  1162.49  1167.570000  1155.490000  1157.86   1099289\n",
      "14  07-03-19   GOOG  1155.72  1156.760000  1134.910000  1143.30   1166559\n"
     ]
    }
   ],
   "source": [
    "print('After the change:\\n',stocks1)"
   ]
  },
  {
   "cell_type": "markdown",
   "metadata": {},
   "source": [
    "LAB 3.3. GỘP DỮ LIỆU VÀ PHÂN TÍCH CƠ BẢN"
   ]
  },
  {
   "cell_type": "markdown",
   "metadata": {},
   "source": [
    "1. Đọc file stocks2.csv vào DataFrame stocks2."
   ]
  },
  {
   "cell_type": "code",
   "execution_count": 37,
   "metadata": {},
   "outputs": [
    {
     "name": "stdout",
     "output_type": "stream",
     "text": [
      "       date symbol    open     high     low   close    volume\n",
      "0  01-03-19     FB  162.60  163.132  161.69  162.28  11097770\n",
      "1  04-03-19     FB  163.90  167.500  163.83  167.37  18894689\n",
      "2  05-03-19     FB  167.37  171.880  166.55  171.26  28187890\n",
      "3  06-03-19     FB  172.90  173.570  171.27  172.51  21531723\n",
      "4  07-03-19     FB  171.50  171.740  167.61  169.13  18306504\n"
     ]
    }
   ],
   "source": [
    "stocks2 = pd.read_csv('D:/Python nâng cao/Lab 3/DATA/stocks2.csv')\n",
    "print(stocks2.head())"
   ]
  },
  {
   "cell_type": "markdown",
   "metadata": {},
   "source": [
    "2. Gộp stocks1 và stocks2 thành DataFrame mới tên là stocks."
   ]
  },
  {
   "cell_type": "code",
   "execution_count": 38,
   "metadata": {},
   "outputs": [],
   "source": [
    "stocks = pd.concat([stocks1, stocks2])"
   ]
  },
  {
   "cell_type": "markdown",
   "metadata": {},
   "source": [
    "3. Tính giá trung bình (open, high, low, close) cho mỗi ngày."
   ]
  },
  {
   "cell_type": "code",
   "execution_count": 39,
   "metadata": {},
   "outputs": [],
   "source": [
    "stocks['average_price'] = stocks[['open', 'high', 'low', 'close']].mean(axis=1)"
   ]
  },
  {
   "cell_type": "markdown",
   "metadata": {},
   "source": [
    "4. Hiển thị 5 dòng đầu tiên của kết quả."
   ]
  },
  {
   "cell_type": "code",
   "execution_count": 40,
   "metadata": {},
   "outputs": [
    {
     "name": "stdout",
     "output_type": "stream",
     "text": [
      "5 dòng đầu tiên của kq:\n",
      "       date symbol     open         high          low    close   volume  \\\n",
      "0  01-03-19   AMZN  1655.13  1674.260000  1651.000000  1671.73  4974877   \n",
      "1  04-03-19   AMZN  1685.00  1709.430000  1674.360000  1696.17  6167358   \n",
      "2  05-03-19   AMZN  1702.95  1707.800000  1689.010000  1692.43  3681522   \n",
      "3  06-03-19   AMZN  1695.97   943.511538   926.775385  1668.95  3996001   \n",
      "4  07-03-19   AMZN  1667.37  1669.750000  1620.510000  1625.95  4957017   \n",
      "\n",
      "   average_price  \n",
      "0    1663.030000  \n",
      "1    1691.240000  \n",
      "2    1698.047500  \n",
      "3    1308.801731  \n",
      "4    1645.895000  \n"
     ]
    }
   ],
   "source": [
    "print(\"5 dòng đầu tiên của kq:\")\n",
    "print(stocks.head())"
   ]
  },
  {
   "cell_type": "markdown",
   "metadata": {},
   "source": [
    "LAB 3.4. KẾT HỢP DỮ LIỆU TỪ NHIỀU NGUỒN"
   ]
  },
  {
   "cell_type": "markdown",
   "metadata": {},
   "source": [
    "1. Đọc file companies.csv vào DataFrame companies."
   ]
  },
  {
   "cell_type": "code",
   "execution_count": 41,
   "metadata": {},
   "outputs": [
    {
     "name": "stdout",
     "output_type": "stream",
     "text": [
      "   name  employees headquarters_city headquarters_state\n",
      "0  AMZN     613300           Seattle                 WA\n",
      "1  GOOG      98771     Mountain View                 CA\n",
      "2  AAPL     132000         Cupertino                 CA\n",
      "3    FB      48268        Menlo Park                 CA\n",
      "4  TSLA      48016         Palo Alto                 CA\n"
     ]
    }
   ],
   "source": [
    "companies = pd.read_csv('D:/Python nâng cao/Lab 3/DATA/companies.csv')\n",
    "print(companies.head())"
   ]
  },
  {
   "cell_type": "markdown",
   "metadata": {},
   "source": [
    "2. Hiển thị 5 dòng đầu tiên của companies"
   ]
  },
  {
   "cell_type": "code",
   "execution_count": 42,
   "metadata": {},
   "outputs": [
    {
     "name": "stdout",
     "output_type": "stream",
     "text": [
      "5 dòng dữ liệu đầu của companies:\n",
      "   name  employees headquarters_city headquarters_state\n",
      "0  AMZN     613300           Seattle                 WA\n",
      "1  GOOG      98771     Mountain View                 CA\n",
      "2  AAPL     132000         Cupertino                 CA\n",
      "3    FB      48268        Menlo Park                 CA\n",
      "4  TSLA      48016         Palo Alto                 CA\n"
     ]
    }
   ],
   "source": [
    "print(\"5 dòng dữ liệu đầu của companies:\")\n",
    "print(companies.head())"
   ]
  },
  {
   "cell_type": "markdown",
   "metadata": {},
   "source": [
    "3. Kết hợp stocks (đã tạo từ bài 3) và companies dựa trên cột chung là symbol"
   ]
  },
  {
   "cell_type": "code",
   "execution_count": 43,
   "metadata": {},
   "outputs": [],
   "source": [
    "stocks_companies = pd.merge(stocks, companies, left_on='symbol', right_on='name', how='inner')\n"
   ]
  },
  {
   "cell_type": "markdown",
   "metadata": {},
   "source": [
    "4. Tính giá đóng cửa (close) trung bình cho mỗi công ty"
   ]
  },
  {
   "cell_type": "code",
   "execution_count": 44,
   "metadata": {},
   "outputs": [
    {
     "name": "stdout",
     "output_type": "stream",
     "text": [
      "Giá đóng cửa trung bình cho mỗi công ty:\n",
      "          mean\n",
      "name          \n",
      "AAPL   174.674\n",
      "AMZN  1671.046\n",
      "FB     168.510\n",
      "GOOG  1150.396\n",
      "TSLA   281.904\n"
     ]
    }
   ],
   "source": [
    "nhom_stocks = stocks_companies.groupby('name')\n",
    "\n",
    "gia_dong_cua = nhom_stocks['close'].agg(['mean'])\n",
    "\n",
    "print(\"Giá đóng cửa trung bình cho mỗi công ty:\")\n",
    "print(gia_dong_cua)"
   ]
  },
  {
   "cell_type": "markdown",
   "metadata": {},
   "source": [
    "5. Hiển thị kết quả cho 5 công ty đầu tiên."
   ]
  },
  {
   "cell_type": "code",
   "execution_count": 45,
   "metadata": {},
   "outputs": [
    {
     "name": "stdout",
     "output_type": "stream",
     "text": [
      "5 dòng đầu tiên của kq:\n",
      "       date symbol     open         high          low    close   volume  \\\n",
      "0  01-03-19   AMZN  1655.13  1674.260000  1651.000000  1671.73  4974877   \n",
      "1  04-03-19   AMZN  1685.00  1709.430000  1674.360000  1696.17  6167358   \n",
      "2  05-03-19   AMZN  1702.95  1707.800000  1689.010000  1692.43  3681522   \n",
      "3  06-03-19   AMZN  1695.97   943.511538   926.775385  1668.95  3996001   \n",
      "4  07-03-19   AMZN  1667.37  1669.750000  1620.510000  1625.95  4957017   \n",
      "\n",
      "   average_price  name  employees headquarters_city headquarters_state  \n",
      "0    1663.030000  AMZN     613300           Seattle                 WA  \n",
      "1    1691.240000  AMZN     613300           Seattle                 WA  \n",
      "2    1698.047500  AMZN     613300           Seattle                 WA  \n",
      "3    1308.801731  AMZN     613300           Seattle                 WA  \n",
      "4    1645.895000  AMZN     613300           Seattle                 WA  \n"
     ]
    }
   ],
   "source": [
    "print(\"5 dòng đầu tiên của kq:\")\n",
    "print(stocks_companies.head())"
   ]
  },
  {
   "cell_type": "markdown",
   "metadata": {},
   "source": [
    "LAB 3.5: SỬ DỤNG MULTIINDEX VÀ GROUPBY"
   ]
  },
  {
   "cell_type": "markdown",
   "metadata": {},
   "source": [
    "1. Tạo MultiIndex cho DataFrame stocks bằng cách sử dụng cột date và symbol làm \n",
    "chỉ mục."
   ]
  },
  {
   "cell_type": "code",
   "execution_count": 46,
   "metadata": {},
   "outputs": [],
   "source": [
    "stocks=pd.MultiIndex.from_arrays([stocks['date'],stocks['symbol']])\n"
   ]
  },
  {
   "cell_type": "markdown",
   "metadata": {},
   "source": [
    "2. Sử dụng GroupBy để tính giá trung bình (open, high, low, close) và volume trung \n",
    "bình cho mỗi ngày, cho mỗi mã chứng khoán."
   ]
  },
  {
   "cell_type": "code",
   "execution_count": 47,
   "metadata": {},
   "outputs": [
    {
     "name": "stdout",
     "output_type": "stream",
     "text": [
      "Giá trung bình và volume trung bình của mỗi công ty:\n",
      "          open         high          low     close      volume\n",
      "name                                                          \n",
      "AAPL   174.890   175.766000   173.472000   174.674  23733309.4\n",
      "AMZN  1681.284  1540.950308  1512.331077  1671.046   4755355.0\n",
      "FB     167.654   169.564400   166.190000   168.510  19603715.2\n",
      "GOOG  1148.032  1113.818308  1094.523077  1150.396   1321077.0\n",
      "TSLA   288.476   291.267160   278.684000   281.904  15710180.2\n"
     ]
    }
   ],
   "source": [
    "nhom_stocks = stocks_companies.groupby('name')\n",
    "\n",
    "gia_tri_tb = nhom_stocks.agg({ 'open': 'mean',\n",
    "                               'high': 'mean',\n",
    "                               'low': 'mean',\n",
    "                               'close': 'mean',\n",
    "                               'volume': 'mean'\n",
    "})\n",
    "\n",
    "print(\"Giá trung bình và volume trung bình của mỗi công ty:\")\n",
    "print(gia_tri_tb)"
   ]
  },
  {
   "cell_type": "markdown",
   "metadata": {},
   "source": [
    "3. Sắp xếp dữ liệu theo ngày và mã chứng khoán."
   ]
  },
  {
   "cell_type": "code",
   "execution_count": 48,
   "metadata": {},
   "outputs": [],
   "source": [
    "sorted_data = stocks_companies.reset_index().sort_values(by=['date', 'symbol']).set_index(['date', 'symbol'])\n"
   ]
  },
  {
   "cell_type": "markdown",
   "metadata": {},
   "source": [
    "4. Hiển thị kết quả cho 5 ngày đầu tiên."
   ]
  },
  {
   "cell_type": "code",
   "execution_count": 49,
   "metadata": {},
   "outputs": [
    {
     "name": "stdout",
     "output_type": "stream",
     "text": [
      "Kết quả cho 5 ngày đầu tiên:\n",
      "                 index     open      high      low    close    volume  \\\n",
      "date     symbol                                                         \n",
      "01-03-19 AAPL        5   174.28   175.150   172.89   174.97  25886167   \n",
      "         AMZN        0  1655.13  1674.260  1651.00  1671.73   4974877   \n",
      "         FB         15   162.60   163.132   161.69   162.28  11097770   \n",
      "         GOOG       10  1124.90  1142.970  1124.75  1140.99   1450316   \n",
      "         TSLA       20   306.94   307.130   291.90   294.79  22911375   \n",
      "\n",
      "                 average_price  name  employees headquarters_city  \\\n",
      "date     symbol                                                     \n",
      "01-03-19 AAPL         174.3225  AAPL     132000         Cupertino   \n",
      "         AMZN        1663.0300  AMZN     613300           Seattle   \n",
      "         FB           162.4255    FB      48268        Menlo Park   \n",
      "         GOOG        1133.4025  GOOG      98771     Mountain View   \n",
      "         TSLA         300.1900  TSLA      48016         Palo Alto   \n",
      "\n",
      "                headquarters_state  \n",
      "date     symbol                     \n",
      "01-03-19 AAPL                   CA  \n",
      "         AMZN                   WA  \n",
      "         FB                     CA  \n",
      "         GOOG                   CA  \n",
      "         TSLA                   CA  \n"
     ]
    }
   ],
   "source": [
    "print(\"Kết quả cho 5 ngày đầu tiên:\")\n",
    "print(sorted_data.head())"
   ]
  },
  {
   "cell_type": "markdown",
   "metadata": {},
   "source": [
    "LAB 3.6: TẠO VÀ PHÂN TÍCH PIVOT TABLE"
   ]
  },
  {
   "cell_type": "code",
   "execution_count": 50,
   "metadata": {},
   "outputs": [
    {
     "name": "stdout",
     "output_type": "stream",
     "text": [
      "       date symbol     open     high      low    close   volume\n",
      "0  01-03-19   AMZN  1655.13  1674.26  1651.00  1671.73  4974877\n",
      "1  04-03-19   AMZN  1685.00  1709.43  1674.36  1696.17  6167358\n",
      "2  05-03-19   AMZN  1702.95  1707.80  1689.01  1692.43  3681522\n",
      "3  06-03-19   AMZN  1695.97      NaN      NaN  1668.95  3996001\n",
      "4  07-03-19   AMZN  1667.37  1669.75  1620.51  1625.95  4957017\n",
      "       date symbol    open     high     low   close    volume\n",
      "0  01-03-19     FB  162.60  163.132  161.69  162.28  11097770\n",
      "1  04-03-19     FB  163.90  167.500  163.83  167.37  18894689\n",
      "2  05-03-19     FB  167.37  171.880  166.55  171.26  28187890\n",
      "3  06-03-19     FB  172.90  173.570  171.27  172.51  21531723\n",
      "4  07-03-19     FB  171.50  171.740  167.61  169.13  18306504\n"
     ]
    }
   ],
   "source": [
    "stocks1 = pd.read_csv('D:/Python nâng cao/Lab 3/DATA/stocks1.csv')\n",
    "print(stocks1.head())\n",
    "stocks2 = pd.read_csv('D:/Python nâng cao/Lab 3/DATA/stocks2.csv')\n",
    "print(stocks2.head())\n",
    "stocks = pd.concat([stocks1, stocks2], ignore_index=True)"
   ]
  },
  {
   "cell_type": "markdown",
   "metadata": {},
   "source": [
    "1. Tạo Pivot Table từ DataFrame stocks với date làm chỉ mục, symbol làm cột, và giá \n",
    "trị trung bình của close làm giá trị."
   ]
  },
  {
   "cell_type": "code",
   "execution_count": 51,
   "metadata": {},
   "outputs": [
    {
     "name": "stdout",
     "output_type": "stream",
     "text": [
      "symbol      AAPL     AMZN      FB     GOOG    TSLA\n",
      "date                                              \n",
      "01-03-19  174.97  1671.73  162.28  1140.99  294.79\n",
      "04-03-19  175.85  1696.17  167.37  1147.80  285.36\n",
      "05-03-19  175.53  1692.43  171.26  1162.03  276.54\n",
      "06-03-19  174.52  1668.95  172.51  1157.86  276.24\n",
      "07-03-19  172.50  1625.95  169.13  1143.30  276.59\n"
     ]
    }
   ],
   "source": [
    "pivot_table = pd.pivot_table(stocks, values='close', index='date', columns='symbol', aggfunc='mean')\n",
    "print(pivot_table)"
   ]
  },
  {
   "cell_type": "markdown",
   "metadata": {},
   "source": [
    "2. Thêm một cột tính tổng volume giao dịch cho mỗi mã chứng khoán (symbol)"
   ]
  },
  {
   "cell_type": "code",
   "execution_count": 52,
   "metadata": {},
   "outputs": [
    {
     "name": "stdout",
     "output_type": "stream",
     "text": [
      "symbol      AAPL     AMZN      FB     GOOG    TSLA  total_volume\n",
      "date                                                            \n",
      "01-03-19  174.97  1671.73  162.28  1140.99  294.79           NaN\n",
      "04-03-19  175.85  1696.17  167.37  1147.80  285.36           NaN\n",
      "05-03-19  175.53  1692.43  171.26  1162.03  276.54           NaN\n",
      "06-03-19  174.52  1668.95  172.51  1157.86  276.24           NaN\n",
      "07-03-19  172.50  1625.95  169.13  1143.30  276.59           NaN\n"
     ]
    }
   ],
   "source": [
    "pivot_table['total_volume'] = stocks.groupby('symbol')['volume'].sum()\n",
    "print(pivot_table)"
   ]
  },
  {
   "cell_type": "markdown",
   "metadata": {},
   "source": [
    "3. Sắp xếp Pivot Table dựa trên tổng volume giao dịch, từ cao xuống thấp."
   ]
  },
  {
   "cell_type": "code",
   "execution_count": 53,
   "metadata": {},
   "outputs": [],
   "source": [
    "pivot_table_sorted = pivot_table.sort_values(by='total_volume', ascending=False)\n"
   ]
  },
  {
   "cell_type": "markdown",
   "metadata": {},
   "source": [
    "4. Hiển thị kết quả cho 5 mã chứng khoán có tổng volume giao dịch cao nhất"
   ]
  },
  {
   "cell_type": "code",
   "execution_count": 54,
   "metadata": {},
   "outputs": [
    {
     "name": "stdout",
     "output_type": "stream",
     "text": [
      "Kết quả cho 5 mã chứng khoán có tổng volume giao dịch cao nhất:\n",
      "symbol      AAPL     AMZN      FB     GOOG    TSLA  total_volume\n",
      "date                                                            \n",
      "01-03-19  174.97  1671.73  162.28  1140.99  294.79           NaN\n",
      "04-03-19  175.85  1696.17  167.37  1147.80  285.36           NaN\n",
      "05-03-19  175.53  1692.43  171.26  1162.03  276.54           NaN\n",
      "06-03-19  174.52  1668.95  172.51  1157.86  276.24           NaN\n",
      "07-03-19  172.50  1625.95  169.13  1143.30  276.59           NaN\n"
     ]
    }
   ],
   "source": [
    "top_5_stocks = pivot_table_sorted.head()\n",
    "print(\"Kết quả cho 5 mã chứng khoán có tổng volume giao dịch cao nhất:\")\n",
    "print(top_5_stocks)"
   ]
  }
 ],
 "metadata": {
  "kernelspec": {
   "display_name": "base",
   "language": "python",
   "name": "python3"
  },
  "language_info": {
   "codemirror_mode": {
    "name": "ipython",
    "version": 3
   },
   "file_extension": ".py",
   "mimetype": "text/x-python",
   "name": "python",
   "nbconvert_exporter": "python",
   "pygments_lexer": "ipython3",
   "version": "3.11.4"
  }
 },
 "nbformat": 4,
 "nbformat_minor": 2
}
