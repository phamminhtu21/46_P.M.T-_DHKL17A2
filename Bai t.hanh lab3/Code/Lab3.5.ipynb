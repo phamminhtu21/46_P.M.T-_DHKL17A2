{
 "cells": [
  {
   "cell_type": "markdown",
   "metadata": {},
   "source": [
    "LAB 3.5: SỬ DỤNG MULTIINDEX VÀ GROUPBY"
   ]
  },
  {
   "cell_type": "code",
   "execution_count": 1,
   "metadata": {},
   "outputs": [],
   "source": [
    "import numpy as np\n",
    "import pandas as pd"
   ]
  },
  {
   "cell_type": "code",
   "execution_count": 2,
   "metadata": {},
   "outputs": [
    {
     "name": "stdout",
     "output_type": "stream",
     "text": [
      "       date symbol     open     high      low    close   volume\n",
      "0  01-03-19   AMZN  1655.13  1674.26  1651.00  1671.73  4974877\n",
      "1  04-03-19   AMZN  1685.00  1709.43  1674.36  1696.17  6167358\n",
      "2  05-03-19   AMZN  1702.95  1707.80  1689.01  1692.43  3681522\n",
      "3  06-03-19   AMZN  1695.97      NaN      NaN  1668.95  3996001\n",
      "4  07-03-19   AMZN  1667.37  1669.75  1620.51  1625.95  4957017\n",
      "       date symbol    open     high     low   close    volume\n",
      "0  01-03-19     FB  162.60  163.132  161.69  162.28  11097770\n",
      "1  04-03-19     FB  163.90  167.500  163.83  167.37  18894689\n",
      "2  05-03-19     FB  167.37  171.880  166.55  171.26  28187890\n",
      "3  06-03-19     FB  172.90  173.570  171.27  172.51  21531723\n",
      "4  07-03-19     FB  171.50  171.740  167.61  169.13  18306504\n",
      "   name  employees headquarters_city headquarters_state\n",
      "0  AMZN     613300           Seattle                 WA\n",
      "1  GOOG      98771     Mountain View                 CA\n",
      "2  AAPL     132000         Cupertino                 CA\n",
      "3    FB      48268        Menlo Park                 CA\n",
      "4  TSLA      48016         Palo Alto                 CA\n"
     ]
    }
   ],
   "source": [
    "stocks1 = pd.read_csv('D:/Python nâng cao/Lab 3/DATA/stocks1.csv')\n",
    "print(stocks1.head())\n",
    "stocks2 = pd.read_csv('D:/Python nâng cao/Lab 3/DATA/stocks2.csv')\n",
    "print(stocks2.head())\n",
    "companies = pd.read_csv('D:/Python nâng cao/Lab 3/DATA/companies.csv')\n",
    "print(companies.head())\n",
    "stocks = pd.concat([stocks1, stocks2], ignore_index=True)\n",
    "stocks_companies = pd.merge(stocks, companies, left_on='symbol', right_on='name', how='inner')\n"
   ]
  },
  {
   "cell_type": "markdown",
   "metadata": {},
   "source": [
    "1. Tạo MultiIndex cho DataFrame stocks bằng cách sử dụng cột date và symbol làm \n",
    "chỉ mục."
   ]
  },
  {
   "cell_type": "code",
   "execution_count": 3,
   "metadata": {},
   "outputs": [],
   "source": [
    "stocks['date'] = pd.to_datetime(stocks['date'])\n",
    "stocks.set_index(['date', 'symbol'], inplace=True)\n"
   ]
  },
  {
   "cell_type": "markdown",
   "metadata": {},
   "source": [
    "2. Sử dụng GroupBy để tính giá trung bình (open, high, low, close) và volume trung \n",
    "bình cho mỗi ngày, cho mỗi mã chứng khoán."
   ]
  },
  {
   "cell_type": "code",
   "execution_count": 4,
   "metadata": {},
   "outputs": [
    {
     "name": "stdout",
     "output_type": "stream",
     "text": [
      "Giá trung bình và volume trung bình của mỗi công ty:\n",
      "          open        high       low     close      volume\n",
      "name                                                      \n",
      "AAPL   174.890   175.76600   173.472   174.674  23733309.4\n",
      "AMZN  1681.284  1690.31000  1658.720  1671.046   4755355.0\n",
      "FB     167.654   169.56440   166.190   168.510  19603715.2\n",
      "GOOG  1148.032  1156.39500  1136.460  1150.396   1321077.0\n",
      "TSLA   288.476   291.26716   278.684   281.904  15710180.2\n"
     ]
    }
   ],
   "source": [
    "nhom_stocks = stocks_companies.groupby('name')\n",
    "\n",
    "gia_tri_tb = nhom_stocks.agg({ 'open': 'mean',\n",
    "                               'high': 'mean',\n",
    "                               'low': 'mean',\n",
    "                               'close': 'mean',\n",
    "                               'volume': 'mean'\n",
    "})\n",
    "\n",
    "print(\"Giá trung bình và volume trung bình của mỗi công ty:\")\n",
    "print(gia_tri_tb)"
   ]
  },
  {
   "cell_type": "markdown",
   "metadata": {},
   "source": [
    "3. Sắp xếp dữ liệu theo ngày và mã chứng khoán."
   ]
  },
  {
   "cell_type": "code",
   "execution_count": 5,
   "metadata": {},
   "outputs": [],
   "source": [
    "sorted_data = stocks_companies.reset_index().sort_values(by=['date', 'symbol']).set_index(['date', 'symbol'])\n"
   ]
  },
  {
   "cell_type": "markdown",
   "metadata": {},
   "source": [
    "4. Hiển thị kết quả cho 5 ngày đầu tiên."
   ]
  },
  {
   "cell_type": "code",
   "execution_count": 6,
   "metadata": {},
   "outputs": [
    {
     "name": "stdout",
     "output_type": "stream",
     "text": [
      "Kết quả cho 5 ngày đầu tiên:\n",
      "                 index     open      high      low    close    volume  name  \\\n",
      "date     symbol                                                               \n",
      "01-03-19 AAPL        5   174.28   175.150   172.89   174.97  25886167  AAPL   \n",
      "         AMZN        0  1655.13  1674.260  1651.00  1671.73   4974877  AMZN   \n",
      "         FB         15   162.60   163.132   161.69   162.28  11097770    FB   \n",
      "         GOOG       10  1124.90  1142.970  1124.75  1140.99   1450316  GOOG   \n",
      "         TSLA       20   306.94   307.130   291.90   294.79  22911375  TSLA   \n",
      "\n",
      "                 employees headquarters_city headquarters_state  \n",
      "date     symbol                                                  \n",
      "01-03-19 AAPL       132000         Cupertino                 CA  \n",
      "         AMZN       613300           Seattle                 WA  \n",
      "         FB          48268        Menlo Park                 CA  \n",
      "         GOOG        98771     Mountain View                 CA  \n",
      "         TSLA        48016         Palo Alto                 CA  \n"
     ]
    }
   ],
   "source": [
    "print(\"Kết quả cho 5 ngày đầu tiên:\")\n",
    "print(sorted_data.head())"
   ]
  }
 ],
 "metadata": {
  "kernelspec": {
   "display_name": "base",
   "language": "python",
   "name": "python3"
  },
  "language_info": {
   "codemirror_mode": {
    "name": "ipython",
    "version": 3
   },
   "file_extension": ".py",
   "mimetype": "text/x-python",
   "name": "python",
   "nbconvert_exporter": "python",
   "pygments_lexer": "ipython3",
   "version": "3.11.4"
  }
 },
 "nbformat": 4,
 "nbformat_minor": 2
}
