{
 "cells": [
  {
   "cell_type": "code",
   "execution_count": 4,
   "metadata": {},
   "outputs": [],
   "source": [
    "import numpy as np"
   ]
  },
  {
   "cell_type": "markdown",
   "metadata": {},
   "source": [
    "1. Đọc Dữ Liệu Từ File CSV"
   ]
  },
  {
   "cell_type": "code",
   "execution_count": 5,
   "metadata": {},
   "outputs": [
    {
     "name": "stdout",
     "output_type": "stream",
     "text": [
      "['1', 'Nguyễn Văn Bình', '3.04', '3.39', '6.7']\n",
      "['2', 'Lê Thị Na', '5.8', '6.41', '6.62']\n",
      "['3', 'Trần Văn Thành', '2.59', '3.57', '9.16']\n",
      "['4', 'Phạm Thị Hồng', '3.81', '8.78', '9.24']\n",
      "['5', 'Bùi Văn An', '8.91', '9.64', '6.39']\n",
      "['6', 'Hoàng Thị Lan', '3.23', '4.72', '6.17']\n",
      "['7', 'Vũ Văn Hùng', '2.35', '3.29', '6.89']\n",
      "['8', 'Đặng Thị Mai', '2.48', '3.81', '4.84']\n",
      "['9', 'Đỗ Văn Hải', '3.23', '2.61', '4.52']\n",
      "['10', 'Ngô Thị Thanh', '7.02', '9.01', '9.15']\n",
      "['11', 'Lương Văn Dũng', '2.29', '4.48', '5.51']\n",
      "['12', 'Mai Thị Hằng', '3.51', '7.19', '5.13']\n",
      "['13', 'Dương Văn Long', '6.74', '7.78', '6.19']\n",
      "['14', 'Nguyễn Thị Hà', '9.86', '4.64', '3.33']\n",
      "['15', 'Trần Văn Tuấn', '8.04', '5.12', '4.77']\n",
      "['16', 'Lê Văn Phúc', '2.74', '8.88', '5.8']\n",
      "['17', 'Phạm Thị Nhung', '3.04', '6.88', '3.91']\n",
      "['18', 'Hoàng Văn Nam', '5.87', '4.41', '8.84']\n",
      "['19', 'Bùi Thị Lan', '8.46', '2.63', '4.91']\n",
      "['20', 'Vũ Thị Thanh', '3.74', '6.71', '3.44']\n",
      "['21', 'Đặng Văn Hùng', '5.67', '8.05', '6.03']\n",
      "['22', 'Đỗ Thị Hồng', '8.12', '2.46', '3.87']\n",
      "['23', 'Ngô Văn Thành', '9.4', '5.31', '5.13']\n",
      "['24', 'Lương Thị Mai', '3.91', '5.09', '8.82']\n",
      "['25', 'Mai Văn Dũng', '4.26', '5.78', '8.14']\n",
      "['26', 'Dương Thị Hằng', '4.41', '2.66', '5.4']\n",
      "['27', 'Nguyễn Văn Long', '3.23', '8.3', '8.64']\n",
      "['28', 'Trần Thị Hà', '9.25', '8.29', '9.1']\n",
      "['29', 'Lê Văn Tuấn', '6.08', '2.67', '6.39']\n",
      "['30', 'Phạm Thị Phúc', '3.85', '7.71', '5.75']\n"
     ]
    }
   ],
   "source": [
    "diem = []\n",
    "with open('D:/Python nâng cao/Lab 2/DATA/diem_hoc_phan.csv', 'r', encoding='utf_8') as file:\n",
    "    for line in file:\n",
    "        lines = file.readlines()\n",
    "    \n",
    "    for line in lines:\n",
    "        diem_hoc_phan = line.strip().split(',')\n",
    "        diem.append(diem_hoc_phan)\n",
    "        print(diem_hoc_phan)"
   ]
  },
  {
   "cell_type": "code",
   "execution_count": 6,
   "metadata": {},
   "outputs": [],
   "source": [
    "mang_diem = np.array(diem)"
   ]
  },
  {
   "cell_type": "markdown",
   "metadata": {},
   "source": [
    "2. Qui đổi từ thang điểm 10 sang điểm tín chỉ"
   ]
  },
  {
   "cell_type": "code",
   "execution_count": 7,
   "metadata": {},
   "outputs": [
    {
     "name": "stdout",
     "output_type": "stream",
     "text": [
      "Điểm tín chỉ sau khi qui đổi:\n",
      "[['F' 'F' 'C+']\n",
      " ['C' 'F' 'C+']\n",
      " ['F' 'F' 'A']\n",
      " ['F' 'A' 'A']\n",
      " ['A' 'A' 'F']\n",
      " ['F' 'D' 'F']\n",
      " ['F' 'F' 'C+']\n",
      " ['F' 'F' 'D']\n",
      " ['F' 'F' 'D']\n",
      " ['B' 'A' 'A']\n",
      " ['F' 'D' 'C']\n",
      " ['F' 'B' 'D+']\n",
      " ['C+' 'B' 'F']\n",
      " ['A' 'D' 'F']\n",
      " ['B+' 'D+' 'D']\n",
      " ['F' 'A' 'C']\n",
      " ['F' 'C+' 'F']\n",
      " ['C' 'D' 'A']\n",
      " ['F' 'F' 'D']\n",
      " ['F' 'C+' 'F']\n",
      " ['C' 'B+' 'F']\n",
      " ['B+' 'F' 'F']\n",
      " ['A' 'D+' 'D+']\n",
      " ['F' 'D+' 'A']\n",
      " ['D' 'C' 'B+']\n",
      " ['D' 'F' 'D+']\n",
      " ['F' 'B+' 'A']\n",
      " ['A' 'B+' 'A']\n",
      " ['F' 'F' 'F']\n",
      " ['F' 'B' 'C']]\n"
     ]
    }
   ],
   "source": [
    "def qui_doi_diem_tin_chi(diem_so):\n",
    "    if 8.5 <= diem_so <= 10:\n",
    "        return 'A'\n",
    "    elif 8.0 <= diem_so <= 8.4:\n",
    "        return 'B+'\n",
    "    elif 7.0 <= diem_so < 8:\n",
    "        return 'B'\n",
    "    elif 6.5 <= diem_so < 7:\n",
    "        return 'C+'\n",
    "    elif 5.5 <= diem_so < 6:\n",
    "        return 'C'\n",
    "    elif 5.0 <= diem_so < 5.5:\n",
    "        return 'D+'\n",
    "    elif 4.0 <= diem_so < 5:\n",
    "        return 'D'\n",
    "    else:\n",
    "        return 'F'\n",
    "ham_qui_doi = np.vectorize(qui_doi_diem_tin_chi)\n",
    "diem_tin_chi_mang = ham_qui_doi(mang_diem[:, 2:].astype(float))\n",
    "print(\"Điểm tín chỉ sau khi qui đổi:\")\n",
    "print(diem_tin_chi_mang)\n"
   ]
  },
  {
   "cell_type": "markdown",
   "metadata": {},
   "source": [
    "3. Chia tách Dữ Liệu theo học phần để phân tích"
   ]
  },
  {
   "cell_type": "code",
   "execution_count": 8,
   "metadata": {},
   "outputs": [
    {
     "name": "stdout",
     "output_type": "stream",
     "text": [
      "[3.04 5.8  2.59 3.81 8.91 3.23 2.35 2.48 3.23 7.02 2.29 3.51 6.74 9.86\n",
      " 8.04 2.74 3.04 5.87 8.46 3.74 5.67 8.12 9.4  3.91 4.26 4.41 3.23 9.25\n",
      " 6.08 3.85]\n",
      "[3.39 6.41 3.57 8.78 9.64 4.72 3.29 3.81 2.61 9.01 4.48 7.19 7.78 4.64\n",
      " 5.12 8.88 6.88 4.41 2.63 6.71 8.05 2.46 5.31 5.09 5.78 2.66 8.3  8.29\n",
      " 2.67 7.71]\n",
      "[6.7  6.62 9.16 9.24 6.39 6.17 6.89 4.84 4.52 9.15 5.51 5.13 6.19 3.33\n",
      " 4.77 5.8  3.91 8.84 4.91 3.44 6.03 3.87 5.13 8.82 8.14 5.4  8.64 9.1\n",
      " 6.39 5.75]\n"
     ]
    }
   ],
   "source": [
    "diem_hp1 = mang_diem[:, 2].astype(float)\n",
    "diem_hp2 = mang_diem[:, 3].astype(float)\n",
    "diem_hp3 = mang_diem[:, 4].astype(float)\n",
    "print(diem_hp1)\n",
    "print(diem_hp2)\n",
    "print(diem_hp3)"
   ]
  },
  {
   "cell_type": "markdown",
   "metadata": {},
   "source": [
    "4. Phân tích dữ liệu theo từng học phần"
   ]
  },
  {
   "cell_type": "code",
   "execution_count": 9,
   "metadata": {},
   "outputs": [
    {
     "name": "stdout",
     "output_type": "stream",
     "text": [
      "Phân tích điểm HP1:\n",
      "Tổng điểm: 154.92999999999998\n",
      "Điểm trung bình: 5.1643333333333326\n",
      "Độ lệch chuẩn: 2.4078519934211533\n",
      "\n",
      "\n",
      "Phân tích điểm HP2:\n",
      "Tổng điểm: 170.27\n",
      "Điểm trung bình: 5.675666666666667\n",
      "Độ lệch chuẩn: 2.2494765070023637\n",
      "\n",
      "\n",
      "Phân tích điểm HP3:\n",
      "Tổng điểm: 188.78\n",
      "Điểm trung bình: 6.292666666666666\n",
      "Độ lệch chuẩn: 1.8082292135923723\n",
      "\n",
      "\n"
     ]
    }
   ],
   "source": [
    "def phan_tich_diem(diem_hp, ten_hp):\n",
    "    tong_diem_hp = np.sum(diem_hp)\n",
    "    diem_trung_binh_hp = np.mean(diem_hp)\n",
    "    do_lech_chuan_hp = np.std(diem_hp) \n",
    "\n",
    "    print(f\"Phân tích điểm {ten_hp}:\")\n",
    "    print(f\"Tổng điểm: {tong_diem_hp}\")\n",
    "    print(f\"Điểm trung bình: {diem_trung_binh_hp}\")\n",
    "    print(f\"Độ lệch chuẩn: {do_lech_chuan_hp}\")\n",
    "    print(\"\\n\")\n",
    "\n",
    "phan_tich_diem(diem_hp1, 'HP1')\n",
    "phan_tich_diem(diem_hp2, 'HP2')\n",
    "phan_tich_diem(diem_hp3, 'HP3')"
   ]
  },
  {
   "cell_type": "markdown",
   "metadata": {},
   "source": [
    "5. Kết hợp dữ liệu để phân tích tổng quan"
   ]
  },
  {
   "cell_type": "code",
   "execution_count": 10,
   "metadata": {},
   "outputs": [
    {
     "name": "stdout",
     "output_type": "stream",
     "text": [
      "Phân tích tổng quan:\n",
      "Tổng điểm tất cả học phần: 513.98\n",
      "Điểm trung bình tất cả học phần: 5.710888888888889\n",
      "Độ lệch chuẩn tất cả học phần: 2.2185594146975665\n"
     ]
    }
   ],
   "source": [
    "tong_diem_tat_ca_hp = np.sum(mang_diem[:, 2:5].astype(float))\n",
    "trung_binh_tat_ca_hp = np.mean(mang_diem[:, 2:5].astype(float))\n",
    "do_lech_chuan_tat_ca_hp = np.std(mang_diem[:, 2:5].astype(float)) \n",
    "\n",
    "print(\"Phân tích tổng quan:\")\n",
    "print(f\"Tổng điểm tất cả học phần: {tong_diem_tat_ca_hp}\")\n",
    "print(f\"Điểm trung bình tất cả học phần: {trung_binh_tat_ca_hp}\")\n",
    "print(f\"Độ lệch chuẩn tất cả học phần: {do_lech_chuan_tat_ca_hp}\")"
   ]
  }
 ],
 "metadata": {
  "kernelspec": {
   "display_name": "base",
   "language": "python",
   "name": "python3"
  },
  "language_info": {
   "codemirror_mode": {
    "name": "ipython",
    "version": 3
   },
   "file_extension": ".py",
   "mimetype": "text/x-python",
   "name": "python",
   "nbconvert_exporter": "python",
   "pygments_lexer": "ipython3",
   "version": "3.11.4"
  }
 },
 "nbformat": 4,
 "nbformat_minor": 2
}
