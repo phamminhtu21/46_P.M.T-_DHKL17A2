{
 "cells": [
  {
   "cell_type": "code",
   "execution_count": null,
   "metadata": {},
   "outputs": [],
   "source": [
    "import numpy as np"
   ]
  },
  {
   "cell_type": "markdown",
   "metadata": {},
   "source": [
    "1. Đọc dữ liệu từ tập tin efficiency.txt và shifts.txt"
   ]
  },
  {
   "cell_type": "code",
   "execution_count": null,
   "metadata": {},
   "outputs": [],
   "source": [
    "with open('D:/Python nâng cao/Lab 2/DATA/efficiency.txt', 'r') as file:\n",
    "    efficiency = [float(line.strip()) for line in file]\n",
    "    print(\"Dữ liệu từ efficiency.txt:\")\n",
    "    print(efficiency)\n",
    "\n",
    "with open('D:/Python nâng cao/Lab 2/DATA/shifts.txt', 'r') as file:\n",
    "    shifts = [line.strip() for line in file]\n",
    "    print(\"\\nDữ liệu từ shifts.txt:\")\n",
    "    print(shifts)"
   ]
  },
  {
   "cell_type": "markdown",
   "metadata": {},
   "source": [
    "2. Tạo numpy array np_shifts từ list shifts"
   ]
  },
  {
   "cell_type": "code",
   "execution_count": null,
   "metadata": {},
   "outputs": [],
   "source": [
    "np_shifts = np.array(shifts, dtype='U10')\n",
    "print(f\"Kiểu dữ liệu của np_shifts: {np_shifts.dtype}\")"
   ]
  },
  {
   "cell_type": "markdown",
   "metadata": {},
   "source": [
    "3. Tạo numpy array np_efficiency từ list efficiency"
   ]
  },
  {
   "cell_type": "code",
   "execution_count": null,
   "metadata": {},
   "outputs": [],
   "source": [
    "np_efficiency = np.array(efficiency, dtype='float')\n",
    "print(f\"Kiểu dữ liệu của np_efficiency: {np_efficiency.dtype}\")"
   ]
  },
  {
   "cell_type": "markdown",
   "metadata": {},
   "source": [
    "4. Tính hiệu suất sản xuất trung bình của những nhân viên làm việc vào ca 'Morning'"
   ]
  },
  {
   "cell_type": "code",
   "execution_count": null,
   "metadata": {},
   "outputs": [],
   "source": [
    "average_efficiency_morning = np.mean(np_efficiency[np_shifts == 'Morning'])\n",
    "print(f\"Hiệu suất trung bình của nhân viên làm việc vào ca 'Morning': {average_efficiency_morning:.2f}\")"
   ]
  },
  {
   "cell_type": "markdown",
   "metadata": {},
   "source": [
    "5. Tính hiệu suất sản xuất trung bình của những nhân viên làm việc trong các ca khác"
   ]
  },
  {
   "cell_type": "code",
   "execution_count": null,
   "metadata": {},
   "outputs": [],
   "source": [
    "average_efficiency_other_shifts = np.mean(np_efficiency[np_shifts != 'Morning'])\n",
    "print(f\"Hiệu suất trung bình của nhân viên làm việc trong các ca khác: {average_efficiency_other_shifts:.2f}\")\n"
   ]
  },
  {
   "cell_type": "markdown",
   "metadata": {},
   "source": [
    "6. Tạo mảng dữ liệu có cấu trúc (Structure Array) workers"
   ]
  },
  {
   "cell_type": "code",
   "execution_count": null,
   "metadata": {},
   "outputs": [],
   "source": [
    "workers = np.array(list(zip(np_shifts, np_efficiency)), dtype=[('shift', 'U10'), ('efficiency', 'float')])\n",
    "print(workers)\n"
   ]
  },
  {
   "cell_type": "markdown",
   "metadata": {},
   "source": [
    "7. Sắp xếp mảng workers theo efficiency"
   ]
  },
  {
   "cell_type": "code",
   "execution_count": null,
   "metadata": {},
   "outputs": [],
   "source": [
    "\n",
    "sorted_workers = np.sort(workers, order='efficiency')\n",
    "highest_efficiency_shift = sorted_workers[-1]['shift']\n",
    "lowest_efficiency_shift = sorted_workers[0]['shift']\n",
    "\n",
    "print(f\"Ca làm việc có hiệu suất cao nhất: {highest_efficiency_shift}\")\n",
    "print(f\"Ca làm việc có hiệu suất thấp nhất: {lowest_efficiency_shift}\")\n"
   ]
  }
 ],
 "metadata": {
  "kernelspec": {
   "display_name": "base",
   "language": "python",
   "name": "python3"
  },
  "language_info": {
   "codemirror_mode": {
    "name": "ipython",
    "version": 3
   },
   "file_extension": ".py",
   "mimetype": "text/x-python",
   "name": "python",
   "nbconvert_exporter": "python",
   "pygments_lexer": "ipython3",
   "version": "3.11.4"
  }
 },
 "nbformat": 4,
 "nbformat_minor": 2
}
