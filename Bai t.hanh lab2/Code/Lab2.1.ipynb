{
 "cells": [
  {
   "cell_type": "code",
   "execution_count": 1,
   "metadata": {},
   "outputs": [],
   "source": [
    "import numpy as np"
   ]
  },
  {
   "cell_type": "markdown",
   "metadata": {},
   "source": [
    "1. Tạo Dữ Liệu Mô Phỏng Nhiệt Độ"
   ]
  },
  {
   "cell_type": "code",
   "execution_count": 2,
   "metadata": {},
   "outputs": [
    {
     "name": "stdout",
     "output_type": "stream",
     "text": [
      "Dữ liệu nhiệt độ hàng ngày:\n",
      "[17.49 29.01 24.64 21.97 13.12 13.12 11.16 27.32 22.02 24.16 10.41 29.4\n",
      " 26.65 14.25 13.64 13.67 16.08 20.5  18.64 15.82 22.24 12.79 15.84 17.33\n",
      " 19.12 25.7  13.99 20.28 21.85 10.93]\n",
      "Nhiệt độ trung bình trong tháng: 18.77 °C\n",
      "\n"
     ]
    }
   ],
   "source": [
    "np.random.seed(42) \n",
    "du_lieu_nhiet_do = np.round(np.random.uniform(10, 30, size=(30)), 2)\n",
    "\n",
    "print(\"Dữ liệu nhiệt độ hàng ngày:\")\n",
    "print(du_lieu_nhiet_do)\n",
    "\n",
    "nhiet_do_trung_binh = np.mean(du_lieu_nhiet_do)\n",
    "print(f\"Nhiệt độ trung bình trong tháng: {nhiet_do_trung_binh:.2f} °C\\n\")"
   ]
  },
  {
   "cell_type": "markdown",
   "metadata": {},
   "source": [
    "2. Phân Tích Xu Hướng Nhiệt Độ"
   ]
  },
  {
   "cell_type": "code",
   "execution_count": 3,
   "metadata": {},
   "outputs": [
    {
     "name": "stdout",
     "output_type": "stream",
     "text": [
      "Ngày có nhiệt độ cao nhất: Ngày 12\n",
      "Ngày có nhiệt độ thấp nhất: Ngày 11\n",
      "Sự chênh lệch nhiệt độ giữa các ngày: 18.99 °C\n",
      "Ngày có sự biến động nhiệt độ cao nhất: Ngày 11\n",
      "\n"
     ]
    }
   ],
   "source": [
    "\n",
    "ngay_nhiet_do_cao_nhat = np.argmax(du_lieu_nhiet_do) + 1 \n",
    "ngay_nhiet_do_thap_nhat = np.argmin(du_lieu_nhiet_do) + 1\n",
    "chenh_lech_nhiet_do = np.ptp(du_lieu_nhiet_do)\n",
    "ngay_chenh_lech_cao_nhat = np.argmax(np.abs(np.diff(du_lieu_nhiet_do))) + 1\n",
    "\n",
    "print(f\"Ngày có nhiệt độ cao nhất: Ngày {ngay_nhiet_do_cao_nhat}\")\n",
    "print(f\"Ngày có nhiệt độ thấp nhất: Ngày {ngay_nhiet_do_thap_nhat}\")\n",
    "print(f\"Sự chênh lệch nhiệt độ giữa các ngày: {chenh_lech_nhiet_do:.2f} °C\")\n",
    "print(f\"Ngày có sự biến động nhiệt độ cao nhất: Ngày {ngay_chenh_lech_cao_nhat}\\n\")"
   ]
  },
  {
   "cell_type": "markdown",
   "metadata": {},
   "source": [
    "3. Áp dụng Fancy Indexing"
   ]
  },
  {
   "cell_type": "code",
   "execution_count": 4,
   "metadata": {},
   "outputs": [
    {
     "name": "stdout",
     "output_type": "stream",
     "text": [
      "Tất cả các ngày có nhiệt độ cao hơn 20 độ C: [ 2  3  4  8  9 10 12 13 18 21 26 28 29]\n"
     ]
    }
   ],
   "source": [
    "ngay_nhiet_do_cao_hon_20 = np.where(du_lieu_nhiet_do > 20)[0] + 1\n",
    "print(f\"Tất cả các ngày có nhiệt độ cao hơn 20 độ C: {ngay_nhiet_do_cao_hon_20}\")\n"
   ]
  }
 ],
 "metadata": {
  "kernelspec": {
   "display_name": "base",
   "language": "python",
   "name": "python3"
  },
  "language_info": {
   "codemirror_mode": {
    "name": "ipython",
    "version": 3
   },
   "file_extension": ".py",
   "mimetype": "text/x-python",
   "name": "python",
   "nbconvert_exporter": "python",
   "pygments_lexer": "ipython3",
   "version": "3.11.4"
  }
 },
 "nbformat": 4,
 "nbformat_minor": 2
}
